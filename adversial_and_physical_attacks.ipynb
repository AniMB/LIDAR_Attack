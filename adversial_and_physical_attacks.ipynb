{
 "cells": [
  {
   "cell_type": "code",
   "id": "initial_id",
   "metadata": {
    "collapsed": true,
    "ExecuteTime": {
     "end_time": "2025-06-09T18:02:54.162384Z",
     "start_time": "2025-06-09T18:02:26.304099Z"
    }
   },
   "source": [
    "import random\n",
    "import os\n",
    "import csv\n",
    "import ast\n",
    "\n",
    "import pandas as pd\n",
    "import numpy as np\n",
    "import matplotlib.pyplot as plt\n",
    "import open3d as o3d\n",
    "\n",
    "\n",
    "from scipy.stats import *\n",
    "from astropy.stats import knuth_bin_width\n",
    "from sklearn.neighbors import *\n",
    "from sklearn.model_selection import train_test_split, StratifiedKFold, cross_val_score\n",
    "from sklearn.ensemble import RandomForestClassifier, GradientBoostingClassifier, AdaBoostClassifier, VotingClassifier\n",
    "from sklearn.svm import SVC\n",
    "from sklearn.tree import DecisionTreeClassifier\n",
    "from sklearn.pipeline import Pipeline\n",
    "from sklearn.decomposition import PCA\n",
    "from sklearn.preprocessing import StandardScaler\n",
    "from sklearn.metrics import accuracy_score, classification_report, confusion_matrix\n",
    "from sklearn.model_selection import learning_curve"
   ],
   "outputs": [
    {
     "name": "stdout",
     "output_type": "stream",
     "text": [
      "Jupyter environment detected. Enabling Open3D WebVisualizer.\n",
      "[Open3D INFO] WebRTC GUI backend enabled.\n",
      "[Open3D INFO] WebRTCWindowSystem: HTTP handshake server disabled.\n"
     ]
    }
   ],
   "execution_count": 1
  },
  {
   "metadata": {},
   "cell_type": "markdown",
   "source": [
    "| filename       | type(simulated/real) | class(benign/malignant) | voxel                    |\n",
    "|----------------|----------------------|-------------------------|--------------------------|\n",
    "| real/00000.bin | real                 | benign                  | \"(00 000 000 000 00 00)\" |"
   ],
   "id": "9e4cdf1c04f721f7"
  },
  {
   "metadata": {
    "ExecuteTime": {
     "end_time": "2025-05-12T19:29:21.605165Z",
     "start_time": "2025-05-12T19:29:21.590726Z"
    }
   },
   "cell_type": "code",
   "source": [
    "\n",
    "class RowEntry:\n",
    "    def __init__(self, filename):\n",
    "        self.filename: str=filename\n",
    "        self.type:str=self.filename.split('/')[0].split('_')[0]\n",
    "        self.class_:int=0\n",
    "        self.voxel:str=\"\"\n",
    "\n",
    "\n",
    "    def to_csv(self):\n",
    "        return [self.filename, self.type, self.class_, self.voxel]"
   ],
   "id": "3ef93a80bc6e6979",
   "outputs": [],
   "execution_count": 13
  },
  {
   "metadata": {
    "ExecuteTime": {
     "end_time": "2025-05-12T09:00:30.887880Z",
     "start_time": "2025-05-12T09:00:30.829039Z"
    }
   },
   "cell_type": "code",
   "source": [
    "file=open(\"filetracker.csv\",\"+w\",newline=\"\")\n",
    "writer=csv.writer(file)\n",
    "writer.writerow([\"filename\",\"type(sim/real)\",\"class(Benign=0/Malignant=1)\",\"Voxel\"])\n",
    "def add_entries(dirname):\n",
    "    for roots, dirs, files in os.walk(dirname):\n",
    "        for filenames in files:\n",
    "            entry_ = RowEntry(f\"{dirname}/{filenames}\")\n",
    "            writer.writerow(entry_.to_csv())\n",
    "add_entries(\"real_world_training\")\n",
    "add_entries(\"simulated_training\")\n",
    "file.close()\n",
    "\n",
    "\n",
    "# store information about every file as to its name and whether or not is benign or malignant\n",
    "\n",
    "\n"
   ],
   "id": "9b4e8fa03df00706",
   "outputs": [],
   "execution_count": 13
  },
  {
   "metadata": {},
   "cell_type": "markdown",
   "source": "### Poisoning the data",
   "id": "eba4d564f6763aef"
  },
  {
   "metadata": {
    "ExecuteTime": {
     "end_time": "2025-05-12T09:00:34.437964Z",
     "start_time": "2025-05-12T09:00:34.381229Z"
    }
   },
   "cell_type": "code",
   "source": [
    "df=pd.read_csv(\"filetracker.csv\", header=0)\n",
    "poison_percent=0.05\n",
    "idx:list=[random.randint(0,len(df)-1) for i in range(int(poison_percent*len(df))) ]\n",
    "df.loc[idx,\"class(Benign=0/Malignant=1)\"]=1\n",
    "df.to_csv(\"filetracker_poisoned.csv\",index=False)"
   ],
   "id": "da2a53f9038441f1",
   "outputs": [],
   "execution_count": 14
  },
  {
   "metadata": {},
   "cell_type": "markdown",
   "source": "### Voxelize the data into around 20 features after converting into readable information. Write this text back into the csv file tha will store the struct.",
   "id": "fd21824203137e1"
  },
  {
   "metadata": {
    "ExecuteTime": {
     "end_time": "2025-05-12T21:54:53.902855Z",
     "start_time": "2025-05-12T21:54:53.865125Z"
    }
   },
   "cell_type": "code",
   "source": [
    "# features=[x_mean, x_max, x_min, x_std, y_mean, y_std, y_min, y_max, z_mean, z_min, z_max, z_std, r_max, r_mean, r_std, r_min, kurtosis_r, skewness_in_r, percentage_outlier_r,Peak_bin_ratio_r entropy_of_r,range_x, range_y, range_z, range_r,curvature_reflectance_region_ratio]\n",
    "class Voxelize:\n",
    "    def __init__(self, pointcloud: np.ndarray):\n",
    "        self.__pointcloud = pointcloud\n",
    "\n",
    "    def __mean(self,col)-> float:\n",
    "        return self.__pointcloud[:,col].mean()\n",
    "\n",
    "    def __std(self,col)-> float:\n",
    "        return self.__pointcloud[:,col].std()\n",
    "\n",
    "    def __min(self,col)-> float:\n",
    "        return self.__pointcloud[:,col].min()\n",
    "\n",
    "    def __max(self,col)-> float:\n",
    "        return self.__pointcloud[:,col].max()\n",
    "\n",
    "    def __range(self,col)-> float:\n",
    "        return self.__pointcloud[:,col].max()-self.__pointcloud[:,col].min()\n",
    "\n",
    "    def __entropy_r(self)-> float:\n",
    "        data=self.__pointcloud[:,3]\n",
    "        width, bin_edges = knuth_bin_width(data, return_bins=True)\n",
    "        hist,_=np.histogram(data, bins=bin_edges)\n",
    "        probs = hist / np.sum(hist)\n",
    "        probs = probs[probs > 0]\n",
    "        return entropy(probs, base=2)\n",
    "\n",
    "    def __kurtosis_r(self)-> float:\n",
    "        return kurtosis(self.__pointcloud[:,3])\n",
    "\n",
    "    def __skewness_r(self)-> float:\n",
    "        return skew(self.__pointcloud[:,3],axis=0,bias=False)\n",
    "\n",
    "    def __percentage_outliers_r(self)-> float:\n",
    "        data = self.__pointcloud[:,3].reshape(-1, 1)\n",
    "        n_neighbors = int(min(max(0.05 * len(data), 20), 100))\n",
    "        lof = LocalOutlierFactor(n_neighbors=n_neighbors, contamination='auto')\n",
    "        preds = lof.fit_predict(data)\n",
    "        return np.sum(preds == -1) / len(data)\n",
    "\n",
    "    def __peak_bin_ratio_r(self)-> float:\n",
    "        data=self.__pointcloud[:,3]\n",
    "        width, bin_edges = knuth_bin_width(data, return_bins=True)\n",
    "        hist,_=np.histogram(data, bins=bin_edges)\n",
    "        return np.max(hist)/np.sum(hist)\n",
    "\n",
    "    def __curvature_reflectance_region_ratio(self)-> float:\n",
    "        points=self.__pointcloud[:,:3]\n",
    "        nbr = NearestNeighbors(n_neighbors=122).fit(points)\n",
    "        _, indices = nbr.kneighbors(points)\n",
    "        curvatures = []\n",
    "        for i in range(len(points)):\n",
    "            neighbors = points[indices[i]]\n",
    "            centroid = np.mean(neighbors, axis=0)\n",
    "            cov = np.cov((neighbors - centroid).T)\n",
    "\n",
    "            eigvals = np.linalg.eigvalsh(cov)  # returns sorted\n",
    "            if np.sum(eigvals) > 0:\n",
    "                curvature = eigvals[0] / np.sum(eigvals) # citation exists\n",
    "            else:\n",
    "                curvature = 0\n",
    "            curvatures.append(curvature)\n",
    "\n",
    "        curvatures=np.array(curvatures)\n",
    "\n",
    "        reflectance = self.__pointcloud[:,3].reshape(-1, 1)\n",
    "        reflectance += np.random.normal(0, 1e-5, size=reflectance.shape)\n",
    "\n",
    "        lof = LocalOutlierFactor(n_neighbors=122, contamination='auto')\n",
    "        preds = lof.fit_predict(reflectance)\n",
    "        high_r=np.array(preds==-1)\n",
    "\n",
    "        high_r_curv=curvatures[high_r]\n",
    "\n",
    "        return np.mean(high_r_curv)/np.mean(curvatures)\n",
    "\n",
    "\n",
    "    def voxel(self)->tuple:\n",
    "        return tuple([self.__mean(0), self.__min(0), self.__max(0), self.__range(0), self.__std(0),\n",
    "                      self.__mean(1), self.__min(1), self.__max(1), self.__range(1), self.__std(1),\n",
    "                      self.__mean(2), self.__min(2), self.__max(2), self.__range(2), self.__std(2),\n",
    "                      self.__mean(3), self.__min(3), self.__max(3), self.__range(3), self.__std(3),\n",
    "                      self.__entropy_r(), self.__kurtosis_r(), self.__skewness_r(),self.__peak_bin_ratio_r(),\n",
    "                      self.__curvature_reflectance_region_ratio()\n",
    "                      ])"
   ],
   "id": "24ab619f155d47f6",
   "outputs": [],
   "execution_count": 21
  },
  {
   "metadata": {},
   "cell_type": "markdown",
   "source": "### Adding Voxels\n",
   "id": "c388283e1be6249f"
  },
  {
   "metadata": {},
   "cell_type": "code",
   "source": [
    "df=pd.read_csv(\"filetracker_poisoned.csv\", header=0)\n",
    "df['voxel'] = [\n",
    "    str(tuple(Voxelize(np.fromfile(fname, dtype=np.float32).reshape(-1, 4)).voxel()))\n",
    "    for fname in df['filename']\n",
    "]\n",
    "df.to_csv(\"filetracker_poisoned_voxelized.csv\",index=False)\n",
    "\n"
   ],
   "id": "967f326c986d3777",
   "outputs": [],
   "execution_count": null
  },
  {
   "metadata": {},
   "cell_type": "markdown",
   "source": "### Preprocessing",
   "id": "2b267d36bf915acb"
  },
  {
   "metadata": {
    "ExecuteTime": {
     "end_time": "2025-06-09T18:20:06.709177Z",
     "start_time": "2025-06-09T18:20:05.629324Z"
    }
   },
   "cell_type": "code",
   "source": [
    "df = pd.read_csv(\"filetracker_poisoned_voxelized.csv\", header=0, dtype={\"Voxel\": str})\n",
    "\n",
    "y_data=df['class(Benign=0/Malignant=1)'].iloc[:9286].to_numpy()\n",
    "\n",
    "\n",
    "# Extract first 9286 entries from the 'voxel' column\n",
    "voxel_strings = df[\"voxel\"].iloc[:9286]\n",
    "\n",
    "# Safely evaluate each string to a tuple\n",
    "parsed_voxels = []\n",
    "errors = []\n",
    "\n",
    "for idx, val in enumerate(voxel_strings):\n",
    "    if isinstance(val, str) and val.startswith(\"(\") and val.endswith(\")\"):\n",
    "        try:\n",
    "            parsed_voxels.append(ast.literal_eval(val))\n",
    "        except Exception as e:\n",
    "            errors.append((idx, val, str(e)))\n",
    "    else:\n",
    "        errors.append((idx, val, \"Invalid format\"))\n",
    "\n",
    "# Convert to NumPy array\n",
    "x_data = np.array(parsed_voxels)\n",
    "print(errors)\n",
    "\n",
    "\n",
    "\n",
    "\n",
    "\n",
    "\n",
    "\n",
    "# # adding noise in simulated.\n",
    "# noise_level=1e-5\n",
    "# x_data_noisy=x_data.copy()\n",
    "# indices=df.index[df['type(sim/real)']=='simulated']\n",
    "# x_data_noisy[indices] += np.random.normal(0, noise_level,x_data_noisy[indices].shape )\n",
    "\n",
    "\n",
    "\n",
    "\n",
    "\n",
    "\n",
    "\n",
    "\n",
    "\n"
   ],
   "id": "3923ecfad2fe4185",
   "outputs": [
    {
     "name": "stdout",
     "output_type": "stream",
     "text": [
      "[]\n"
     ]
    }
   ],
   "execution_count": 17
  },
  {
   "metadata": {},
   "cell_type": "markdown",
   "source": "### Conducting Detailed Ananlysis using differnt ML classifiers.",
   "id": "5c1143b27501233c"
  },
  {
   "metadata": {
    "ExecuteTime": {
     "end_time": "2025-06-09T18:20:33.136721Z",
     "start_time": "2025-06-09T18:20:09.286082Z"
    }
   },
   "cell_type": "code",
   "source": [
    "\n",
    "\n",
    "# Conducting PCA reducing to 10 dimensions and then cross validating, proceeding in direction of generating f-scores for models using SVM, Random Forest, ADAboost, kNN, aNN, Decision Tree, Gradient Boosting, Voting Classifier.\n",
    "\n",
    "X_train, X_test, y_train, y_test = train_test_split(\n",
    "    x_data, y_data, test_size=0.5, random_state=42, stratify=None\n",
    ")\n",
    "\n",
    "\n",
    "rf = RandomForestClassifier(\n",
    "    n_estimators=50,\n",
    "    max_depth=4,\n",
    "    min_samples_split=10,\n",
    "    min_samples_leaf=5,\n",
    "    random_state=42\n",
    ")\n",
    "svm = SVC(\n",
    "    kernel='rbf',\n",
    "    C=0.1,\n",
    "    gamma='scale',\n",
    "    probability=True,\n",
    "    random_state=42\n",
    ")\n",
    "knn = KNeighborsClassifier(\n",
    "    n_neighbors=9\n",
    ")\n",
    "dt = DecisionTreeClassifier(\n",
    "    max_depth=3,\n",
    "    min_samples_split=10,\n",
    "    min_samples_leaf=5,\n",
    "    random_state=42\n",
    ")\n",
    "ada = AdaBoostClassifier(\n",
    "    n_estimators=50,\n",
    "    learning_rate=0.1,\n",
    "    random_state=42\n",
    ")\n",
    "gb = GradientBoostingClassifier(\n",
    "    n_estimators=50,\n",
    "    learning_rate=0.05,\n",
    "    max_depth=2,\n",
    "    random_state=42\n",
    ")\n",
    "\n",
    "\n",
    "voting_clf = VotingClassifier(\n",
    "    estimators=[\n",
    "        ('rf', rf), ('svm', svm), ('knn', knn),\n",
    "        ('dt', dt), ('ada', ada), ('gb', gb)\n",
    "    ],\n",
    "    voting='soft'\n",
    ")\n",
    "\n",
    "classifiers = {\n",
    "    \"RandomForest\": rf,\n",
    "    \"SVM\": svm,\n",
    "    \"kNN\": knn,\n",
    "    \"DecisionTree\": dt,\n",
    "    \"AdaBoost\": ada,\n",
    "    \"GradientBoosting\": gb,\n",
    "    \"VotingClassifier\": voting_clf\n",
    "}\n",
    "\n",
    "\n",
    "cv = StratifiedKFold(n_splits=5, shuffle=True, random_state=42)\n",
    "\n",
    "best_model = None\n",
    "best_score = 0\n",
    "dim_keep=10\n",
    "for name, clf in classifiers.items():\n",
    "    pipeline = Pipeline([\n",
    "            ('scaler', StandardScaler()),\n",
    "            ('pca', PCA(n_components=dim_keep)),\n",
    "            ('clf', clf)\n",
    "        ])\n",
    "    try:\n",
    "\n",
    "        scores = cross_val_score(pipeline, X_train, y_train, cv=cv)\n",
    "        mean_score = np.mean(scores)\n",
    "    except:\n",
    "\n",
    "        scores = cross_val_score(clf, X_train, y_train, cv=5)\n",
    "        mean_score = np.mean(scores)\n",
    "\n",
    "    clf.fit(X_train, y_train)\n",
    "    y_pred = clf.predict(X_test)\n",
    "    test_acc = accuracy_score(y_test, y_pred)\n",
    "\n",
    "    if test_acc > best_score:\n",
    "        best_score = test_acc\n",
    "        best_model = clf\n",
    "\n",
    "    print(f\"▶ {name} ◀\")\n",
    "    print(f\"  - CV Accuracy : {mean_score:.4f}\")\n",
    "    print(f\"  - Test Accuracy: {test_acc:.4f}\")\n",
    "    print(classification_report(y_test, y_pred))\n",
    "\n",
    "print(\"\\n✔ Best Model:\", best_model)\n",
    "y_pred_best = best_model.predict(X_test)\n",
    "print(confusion_matrix(y_test, y_pred_best))\n",
    "print(classification_report(y_test, y_pred_best))\n",
    "\n"
   ],
   "id": "bd49378dfdd1d775",
   "outputs": [
    {
     "name": "stdout",
     "output_type": "stream",
     "text": [
      "▶ RandomForest ◀\n",
      "  - CV Accuracy : 0.9494\n",
      "  - Test Accuracy: 0.9483\n",
      "              precision    recall  f1-score   support\n",
      "\n",
      "           0       0.95      1.00      0.97      4403\n",
      "           1       0.00      0.00      0.00       240\n",
      "\n",
      "    accuracy                           0.95      4643\n",
      "   macro avg       0.47      0.50      0.49      4643\n",
      "weighted avg       0.90      0.95      0.92      4643\n",
      "\n"
     ]
    },
    {
     "name": "stderr",
     "output_type": "stream",
     "text": [
      "C:\\Users\\Animish Murthy\\OneDrive - University of Victoria\\NRC\\code\\.venv\\Lib\\site-packages\\sklearn\\metrics\\_classification.py:1565: UndefinedMetricWarning: Precision is ill-defined and being set to 0.0 in labels with no predicted samples. Use `zero_division` parameter to control this behavior.\n",
      "  _warn_prf(average, modifier, f\"{metric.capitalize()} is\", len(result))\n",
      "C:\\Users\\Animish Murthy\\OneDrive - University of Victoria\\NRC\\code\\.venv\\Lib\\site-packages\\sklearn\\metrics\\_classification.py:1565: UndefinedMetricWarning: Precision is ill-defined and being set to 0.0 in labels with no predicted samples. Use `zero_division` parameter to control this behavior.\n",
      "  _warn_prf(average, modifier, f\"{metric.capitalize()} is\", len(result))\n",
      "C:\\Users\\Animish Murthy\\OneDrive - University of Victoria\\NRC\\code\\.venv\\Lib\\site-packages\\sklearn\\metrics\\_classification.py:1565: UndefinedMetricWarning: Precision is ill-defined and being set to 0.0 in labels with no predicted samples. Use `zero_division` parameter to control this behavior.\n",
      "  _warn_prf(average, modifier, f\"{metric.capitalize()} is\", len(result))\n"
     ]
    },
    {
     "name": "stdout",
     "output_type": "stream",
     "text": [
      "▶ SVM ◀\n",
      "  - CV Accuracy : 0.9494\n",
      "  - Test Accuracy: 0.9483\n",
      "              precision    recall  f1-score   support\n",
      "\n",
      "           0       0.95      1.00      0.97      4403\n",
      "           1       0.00      0.00      0.00       240\n",
      "\n",
      "    accuracy                           0.95      4643\n",
      "   macro avg       0.47      0.50      0.49      4643\n",
      "weighted avg       0.90      0.95      0.92      4643\n",
      "\n"
     ]
    },
    {
     "name": "stderr",
     "output_type": "stream",
     "text": [
      "C:\\Users\\Animish Murthy\\OneDrive - University of Victoria\\NRC\\code\\.venv\\Lib\\site-packages\\sklearn\\metrics\\_classification.py:1565: UndefinedMetricWarning: Precision is ill-defined and being set to 0.0 in labels with no predicted samples. Use `zero_division` parameter to control this behavior.\n",
      "  _warn_prf(average, modifier, f\"{metric.capitalize()} is\", len(result))\n",
      "C:\\Users\\Animish Murthy\\OneDrive - University of Victoria\\NRC\\code\\.venv\\Lib\\site-packages\\sklearn\\metrics\\_classification.py:1565: UndefinedMetricWarning: Precision is ill-defined and being set to 0.0 in labels with no predicted samples. Use `zero_division` parameter to control this behavior.\n",
      "  _warn_prf(average, modifier, f\"{metric.capitalize()} is\", len(result))\n",
      "C:\\Users\\Animish Murthy\\OneDrive - University of Victoria\\NRC\\code\\.venv\\Lib\\site-packages\\sklearn\\metrics\\_classification.py:1565: UndefinedMetricWarning: Precision is ill-defined and being set to 0.0 in labels with no predicted samples. Use `zero_division` parameter to control this behavior.\n",
      "  _warn_prf(average, modifier, f\"{metric.capitalize()} is\", len(result))\n"
     ]
    },
    {
     "name": "stdout",
     "output_type": "stream",
     "text": [
      "▶ kNN ◀\n",
      "  - CV Accuracy : 0.9494\n",
      "  - Test Accuracy: 0.9483\n",
      "              precision    recall  f1-score   support\n",
      "\n",
      "           0       0.95      1.00      0.97      4403\n",
      "           1       0.00      0.00      0.00       240\n",
      "\n",
      "    accuracy                           0.95      4643\n",
      "   macro avg       0.47      0.50      0.49      4643\n",
      "weighted avg       0.90      0.95      0.92      4643\n",
      "\n",
      "▶ DecisionTree ◀\n",
      "  - CV Accuracy : 0.9485\n",
      "  - Test Accuracy: 0.9451\n",
      "              precision    recall  f1-score   support\n",
      "\n",
      "           0       0.95      1.00      0.97      4403\n",
      "           1       0.00      0.00      0.00       240\n",
      "\n",
      "    accuracy                           0.95      4643\n",
      "   macro avg       0.47      0.50      0.49      4643\n",
      "weighted avg       0.90      0.95      0.92      4643\n",
      "\n"
     ]
    },
    {
     "name": "stderr",
     "output_type": "stream",
     "text": [
      "C:\\Users\\Animish Murthy\\OneDrive - University of Victoria\\NRC\\code\\.venv\\Lib\\site-packages\\sklearn\\metrics\\_classification.py:1565: UndefinedMetricWarning: Precision is ill-defined and being set to 0.0 in labels with no predicted samples. Use `zero_division` parameter to control this behavior.\n",
      "  _warn_prf(average, modifier, f\"{metric.capitalize()} is\", len(result))\n",
      "C:\\Users\\Animish Murthy\\OneDrive - University of Victoria\\NRC\\code\\.venv\\Lib\\site-packages\\sklearn\\metrics\\_classification.py:1565: UndefinedMetricWarning: Precision is ill-defined and being set to 0.0 in labels with no predicted samples. Use `zero_division` parameter to control this behavior.\n",
      "  _warn_prf(average, modifier, f\"{metric.capitalize()} is\", len(result))\n",
      "C:\\Users\\Animish Murthy\\OneDrive - University of Victoria\\NRC\\code\\.venv\\Lib\\site-packages\\sklearn\\metrics\\_classification.py:1565: UndefinedMetricWarning: Precision is ill-defined and being set to 0.0 in labels with no predicted samples. Use `zero_division` parameter to control this behavior.\n",
      "  _warn_prf(average, modifier, f\"{metric.capitalize()} is\", len(result))\n"
     ]
    },
    {
     "name": "stdout",
     "output_type": "stream",
     "text": [
      "▶ AdaBoost ◀\n",
      "  - CV Accuracy : 0.9494\n",
      "  - Test Accuracy: 0.9483\n",
      "              precision    recall  f1-score   support\n",
      "\n",
      "           0       0.95      1.00      0.97      4403\n",
      "           1       0.00      0.00      0.00       240\n",
      "\n",
      "    accuracy                           0.95      4643\n",
      "   macro avg       0.47      0.50      0.49      4643\n",
      "weighted avg       0.90      0.95      0.92      4643\n",
      "\n"
     ]
    },
    {
     "name": "stderr",
     "output_type": "stream",
     "text": [
      "C:\\Users\\Animish Murthy\\OneDrive - University of Victoria\\NRC\\code\\.venv\\Lib\\site-packages\\sklearn\\metrics\\_classification.py:1565: UndefinedMetricWarning: Precision is ill-defined and being set to 0.0 in labels with no predicted samples. Use `zero_division` parameter to control this behavior.\n",
      "  _warn_prf(average, modifier, f\"{metric.capitalize()} is\", len(result))\n",
      "C:\\Users\\Animish Murthy\\OneDrive - University of Victoria\\NRC\\code\\.venv\\Lib\\site-packages\\sklearn\\metrics\\_classification.py:1565: UndefinedMetricWarning: Precision is ill-defined and being set to 0.0 in labels with no predicted samples. Use `zero_division` parameter to control this behavior.\n",
      "  _warn_prf(average, modifier, f\"{metric.capitalize()} is\", len(result))\n",
      "C:\\Users\\Animish Murthy\\OneDrive - University of Victoria\\NRC\\code\\.venv\\Lib\\site-packages\\sklearn\\metrics\\_classification.py:1565: UndefinedMetricWarning: Precision is ill-defined and being set to 0.0 in labels with no predicted samples. Use `zero_division` parameter to control this behavior.\n",
      "  _warn_prf(average, modifier, f\"{metric.capitalize()} is\", len(result))\n"
     ]
    },
    {
     "name": "stdout",
     "output_type": "stream",
     "text": [
      "▶ GradientBoosting ◀\n",
      "  - CV Accuracy : 0.9490\n",
      "  - Test Accuracy: 0.9483\n",
      "              precision    recall  f1-score   support\n",
      "\n",
      "           0       0.95      1.00      0.97      4403\n",
      "           1       0.00      0.00      0.00       240\n",
      "\n",
      "    accuracy                           0.95      4643\n",
      "   macro avg       0.47      0.50      0.49      4643\n",
      "weighted avg       0.90      0.95      0.92      4643\n",
      "\n"
     ]
    },
    {
     "name": "stderr",
     "output_type": "stream",
     "text": [
      "C:\\Users\\Animish Murthy\\OneDrive - University of Victoria\\NRC\\code\\.venv\\Lib\\site-packages\\sklearn\\metrics\\_classification.py:1565: UndefinedMetricWarning: Precision is ill-defined and being set to 0.0 in labels with no predicted samples. Use `zero_division` parameter to control this behavior.\n",
      "  _warn_prf(average, modifier, f\"{metric.capitalize()} is\", len(result))\n",
      "C:\\Users\\Animish Murthy\\OneDrive - University of Victoria\\NRC\\code\\.venv\\Lib\\site-packages\\sklearn\\metrics\\_classification.py:1565: UndefinedMetricWarning: Precision is ill-defined and being set to 0.0 in labels with no predicted samples. Use `zero_division` parameter to control this behavior.\n",
      "  _warn_prf(average, modifier, f\"{metric.capitalize()} is\", len(result))\n",
      "C:\\Users\\Animish Murthy\\OneDrive - University of Victoria\\NRC\\code\\.venv\\Lib\\site-packages\\sklearn\\metrics\\_classification.py:1565: UndefinedMetricWarning: Precision is ill-defined and being set to 0.0 in labels with no predicted samples. Use `zero_division` parameter to control this behavior.\n",
      "  _warn_prf(average, modifier, f\"{metric.capitalize()} is\", len(result))\n"
     ]
    },
    {
     "name": "stdout",
     "output_type": "stream",
     "text": [
      "▶ VotingClassifier ◀\n",
      "  - CV Accuracy : 0.9494\n",
      "  - Test Accuracy: 0.9483\n",
      "              precision    recall  f1-score   support\n",
      "\n",
      "           0       0.95      1.00      0.97      4403\n",
      "           1       0.00      0.00      0.00       240\n",
      "\n",
      "    accuracy                           0.95      4643\n",
      "   macro avg       0.47      0.50      0.49      4643\n",
      "weighted avg       0.90      0.95      0.92      4643\n",
      "\n",
      "\n",
      "✔ Best Model: RandomForestClassifier(max_depth=4, min_samples_leaf=5, min_samples_split=10,\n",
      "                       n_estimators=50, random_state=42)\n",
      "[[4403    0]\n",
      " [ 240    0]]\n",
      "              precision    recall  f1-score   support\n",
      "\n",
      "           0       0.95      1.00      0.97      4403\n",
      "           1       0.00      0.00      0.00       240\n",
      "\n",
      "    accuracy                           0.95      4643\n",
      "   macro avg       0.47      0.50      0.49      4643\n",
      "weighted avg       0.90      0.95      0.92      4643\n",
      "\n"
     ]
    },
    {
     "name": "stderr",
     "output_type": "stream",
     "text": [
      "C:\\Users\\Animish Murthy\\OneDrive - University of Victoria\\NRC\\code\\.venv\\Lib\\site-packages\\sklearn\\metrics\\_classification.py:1565: UndefinedMetricWarning: Precision is ill-defined and being set to 0.0 in labels with no predicted samples. Use `zero_division` parameter to control this behavior.\n",
      "  _warn_prf(average, modifier, f\"{metric.capitalize()} is\", len(result))\n",
      "C:\\Users\\Animish Murthy\\OneDrive - University of Victoria\\NRC\\code\\.venv\\Lib\\site-packages\\sklearn\\metrics\\_classification.py:1565: UndefinedMetricWarning: Precision is ill-defined and being set to 0.0 in labels with no predicted samples. Use `zero_division` parameter to control this behavior.\n",
      "  _warn_prf(average, modifier, f\"{metric.capitalize()} is\", len(result))\n",
      "C:\\Users\\Animish Murthy\\OneDrive - University of Victoria\\NRC\\code\\.venv\\Lib\\site-packages\\sklearn\\metrics\\_classification.py:1565: UndefinedMetricWarning: Precision is ill-defined and being set to 0.0 in labels with no predicted samples. Use `zero_division` parameter to control this behavior.\n",
      "  _warn_prf(average, modifier, f\"{metric.capitalize()} is\", len(result))\n",
      "C:\\Users\\Animish Murthy\\OneDrive - University of Victoria\\NRC\\code\\.venv\\Lib\\site-packages\\sklearn\\metrics\\_classification.py:1565: UndefinedMetricWarning: Precision is ill-defined and being set to 0.0 in labels with no predicted samples. Use `zero_division` parameter to control this behavior.\n",
      "  _warn_prf(average, modifier, f\"{metric.capitalize()} is\", len(result))\n",
      "C:\\Users\\Animish Murthy\\OneDrive - University of Victoria\\NRC\\code\\.venv\\Lib\\site-packages\\sklearn\\metrics\\_classification.py:1565: UndefinedMetricWarning: Precision is ill-defined and being set to 0.0 in labels with no predicted samples. Use `zero_division` parameter to control this behavior.\n",
      "  _warn_prf(average, modifier, f\"{metric.capitalize()} is\", len(result))\n",
      "C:\\Users\\Animish Murthy\\OneDrive - University of Victoria\\NRC\\code\\.venv\\Lib\\site-packages\\sklearn\\metrics\\_classification.py:1565: UndefinedMetricWarning: Precision is ill-defined and being set to 0.0 in labels with no predicted samples. Use `zero_division` parameter to control this behavior.\n",
      "  _warn_prf(average, modifier, f\"{metric.capitalize()} is\", len(result))\n"
     ]
    }
   ],
   "execution_count": 18
  },
  {
   "metadata": {},
   "cell_type": "markdown",
   "source": "### Graphing the outputs using a learning curve",
   "id": "5def2b62bc42dafd"
  },
  {
   "metadata": {
    "jupyter": {
     "is_executing": true
    },
    "ExecuteTime": {
     "start_time": "2025-06-09T18:22:19.604414Z"
    }
   },
   "cell_type": "code",
   "source": [
    "colors = plt.cm.get_cmap('tab10', len(classifiers))\n",
    "train_sizes = np.linspace(0.1, 1.0, 10)\n",
    "plt.figure(figsize=(12, 7))\n",
    "\n",
    "for idx, (name, clf) in enumerate(classifiers.items()):\n",
    "    train_sizes_abs, train_scores, val_scores = learning_curve(\n",
    "        clf, X_train, y_train, cv=cv, train_sizes=train_sizes, scoring=\"accuracy\"\n",
    "    )\n",
    "\n",
    "    train_mean = np.mean(train_scores, axis=1)\n",
    "    val_mean = np.mean(val_scores, axis=1)\n",
    "\n",
    "    color = colors(idx)\n",
    "    plt.plot(train_sizes_abs, train_mean, marker=\"o\", linestyle=\"-\", linewidth=2, color=color,\n",
    "             label=f\"{name} - Training\")\n",
    "    plt.plot(train_sizes_abs, val_mean, marker=\"o\", linestyle=\"--\", linewidth=1.5, color=color,\n",
    "             label=f\"{name} - Validation\")\n",
    "\n",
    "plt.title((\"Learning Curves of Denial of Service Dataset\"), fontsize=16, fontweight='bold')\n",
    "plt.xlabel(\"Training Size\", fontsize=14)\n",
    "plt.ylabel(\"Score\", fontsize=14)\n",
    "plt.xticks(fontsize=12)\n",
    "plt.yticks(fontsize=12)\n",
    "plt.grid(True, linestyle='--', alpha=0.6)\n",
    "\n",
    "plt.legend(loc=\"upper left\", fontsize=11, frameon=True, ncol=2, bbox_to_anchor=(1.05, 1))\n",
    "\n",
    "plt.tight_layout()\n",
    "plt.show()"
   ],
   "id": "63ece8b6cd11de5a",
   "outputs": [
    {
     "name": "stderr",
     "output_type": "stream",
     "text": [
      "C:\\Users\\Animish Murthy\\AppData\\Local\\Temp\\ipykernel_22204\\1752758952.py:1: MatplotlibDeprecationWarning: The get_cmap function was deprecated in Matplotlib 3.7 and will be removed in 3.11. Use ``matplotlib.colormaps[name]`` or ``matplotlib.colormaps.get_cmap()`` or ``pyplot.get_cmap()`` instead.\n",
      "  colors = plt.cm.get_cmap('tab10', len(classifiers))\n"
     ]
    }
   ],
   "execution_count": null
  },
  {
   "metadata": {},
   "cell_type": "markdown",
   "source": "# POint cloud processing for reference",
   "id": "1a6a7211460613b5"
  },
  {
   "metadata": {
    "ExecuteTime": {
     "end_time": "2025-06-08T22:25:10.345170Z",
     "start_time": "2025-06-08T22:25:10.292646Z"
    }
   },
   "cell_type": "code",
   "source": [
    "point_cloud = np.fromfile('00174.bin', dtype=np.float32).reshape(-1, 4)\n",
    "print(type(point_cloud))\n",
    "print(point_cloud.shape)\n",
    "np.savetxt(\"converted.txt\", point_cloud, fmt=\"%.6f\", delimiter=\",\")\n",
    "print(len(point_cloud))"
   ],
   "id": "af8a2666f3b3130",
   "outputs": [
    {
     "name": "stdout",
     "output_type": "stream",
     "text": [
      "<class 'numpy.ndarray'>\n",
      "(9122, 4)\n",
      "9122\n"
     ]
    }
   ],
   "execution_count": 2
  },
  {
   "metadata": {},
   "cell_type": "markdown",
   "source": "### Visulaisation in matplotlib",
   "id": "998496a8144f54bd"
  },
  {
   "metadata": {
    "ExecuteTime": {
     "end_time": "2025-06-08T22:25:42.449751Z",
     "start_time": "2025-06-08T22:25:41.287297Z"
    }
   },
   "cell_type": "code",
   "source": [
    "x, y, z, r = point_cloud[:, 0], point_cloud[:, 1], point_cloud[:, 2], point_cloud[:, 3]\n",
    "r_norm = (r - r.min()) / (r.max() - r.min())\n",
    "\n",
    "fig = plt.figure()\n",
    "ax = fig.add_subplot(111, projection='3d')\n",
    "ax.scatter(x, y, z, c=r_norm, cmap='viridis', s=0.5)\n",
    "plt.show()"
   ],
   "id": "ba1bc0822877847e",
   "outputs": [
    {
     "data": {
      "text/plain": [
       "<Figure size 640x480 with 1 Axes>"
      ],
      "image/png": "[encoded data removed]"
     },
     "metadata": {},
     "output_type": "display_data"
    }
   ],
   "execution_count": 3
  },
  {
   "metadata": {},
   "cell_type": "markdown",
   "source": "## Visualisation in open3d",
   "id": "84f49bff7cd28937"
  },
  {
   "metadata": {
    "ExecuteTime": {
     "end_time": "2025-06-08T22:32:23.329463Z",
     "start_time": "2025-06-08T22:25:46.415808Z"
    }
   },
   "cell_type": "code",
   "source": [
    "pcd=o3d.geometry.PointCloud()\n",
    "pcd.points = o3d.utility.Vector3dVector(point_cloud[:, :3])\n",
    "pcd.colors=o3d.utility.Vector3dVector(np.stack([r_norm, np.zeros_like(r_norm), np.zeros_like(r_norm)], axis=1))\n",
    "voxel_grid = o3d.geometry.VoxelGrid.create_from_point_cloud(\n",
    "    pcd,\n",
    "    voxel_size=0.2  # uniform 0.2m grid\n",
    ")\n",
    "o3d.visualization.draw_geometries([pcd])\n",
    "o3d.visualization.draw_geometries([voxel_grid])\n"
   ],
   "id": "a55e0562b8deade2",
   "outputs": [],
   "execution_count": 4
  }
 ],
 "metadata": {
  "kernelspec": {
   "display_name": "Python 3",
   "language": "python",
   "name": "python3"
  },
  "language_info": {
   "codemirror_mode": {
    "name": "ipython",
    "version": 2
   },
   "file_extension": ".py",
   "mimetype": "text/x-python",
   "name": "python",
   "nbconvert_exporter": "python",
   "pygments_lexer": "ipython2",
   "version": "2.7.6"
  }
 },
 "nbformat": 4,
 "nbformat_minor": 5
}
